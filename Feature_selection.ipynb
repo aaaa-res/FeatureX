{
 "cells": [
  {
   "cell_type": "code",
   "execution_count": 1,
   "id": "ee3013b3",
   "metadata": {},
   "outputs": [
    {
     "name": "stderr",
     "output_type": "stream",
     "text": [
      "D:\\anaconda3\\envs\\tensorflow\\lib\\site-packages\\numpy\\_distributor_init.py:30: UserWarning: loaded more than 1 DLL from .libs:\n",
      "D:\\anaconda3\\envs\\tensorflow\\lib\\site-packages\\numpy\\.libs\\libopenblas.FB5AE2TYXYH2IJRDKGDGQ3XBKLKTF43H.gfortran-win_amd64.dll\n",
      "D:\\anaconda3\\envs\\tensorflow\\lib\\site-packages\\numpy\\.libs\\libopenblas.NOIJJG62EMASZI6NYURL6JBKM4EVBGM7.gfortran-win_amd64.dll\n",
      "D:\\anaconda3\\envs\\tensorflow\\lib\\site-packages\\numpy\\.libs\\libopenblas.PYQHXLVVQ7VESDPUVUADXEVJOBGHJPAY.gfortran-win_amd64.dll\n",
      "D:\\anaconda3\\envs\\tensorflow\\lib\\site-packages\\numpy\\.libs\\libopenblas.WCDJNK7YVMPZQ2ME2ZZHJJRJ3JIKNDB7.gfortran-win_amd64.dll\n",
      "  warnings.warn(\"loaded more than 1 DLL from .libs:\"\n"
     ]
    }
   ],
   "source": [
    "import copy\n",
    "import pandas as pd \n",
    "import numpy as np"
   ]
  },
  {
   "cell_type": "code",
   "execution_count": 2,
   "id": "909eddac",
   "metadata": {},
   "outputs": [],
   "source": [
    "def feature_selection(column_names,feature_dict,rela_class,max_values):\n",
    "    for i in range(len(column_names)):\n",
    "        feature_dict[column_names[i]]['change_range'] = max_values[i]\n",
    "    Rela_class_copy =copy.deepcopy(rela_class)\n",
    "    feature_dict_copy =copy.deepcopy(feature_dict) \n",
    "    F = column_names\n",
    "    F_copy = copy.deepcopy(F)\n",
    "    flag = 0\n",
    "    num = 0\n",
    "    for i in range(len(column_names)):\n",
    "        if feature_dict[column_names[i]]['change_range']>=0.1:\n",
    "            num+=1\n",
    "    if (num/len(column_names))>=0.15:\n",
    "        for i in range(len(rela_class)):\n",
    "            for metric in rela_class[i]:\n",
    "                if feature_dict[metric]['change_range']>=0.5 or feature_dict[metric]['change_range']<=0.1:\n",
    "                    Rela_class_copy[i].remove(metric)\n",
    "                    for j in  Rela_class_copy[i]:\n",
    "                        feature_dict_copy[j]['NOFR'] -=1 \n",
    "        for metric in F:\n",
    "            if feature_dict[metric]['change_range']<0.1:\n",
    "                F_copy.remove(metric)\n",
    "            elif 0.1<feature_dict[metric]['change_range']<0.5 and -0.3<feature_dict[metric]['target']<0.3 and feature_dict_copy[metric]['NOFR']>0:\n",
    "                for i in Rela_class_copy:\n",
    "                    for j in i:\n",
    "                        if metric == j:\n",
    "                            flag == 1\n",
    "                            change_range = [feature_dict[feature]['change_range'] for feature in i]\n",
    "                            max_change_range = max(change_range)\n",
    "                            max_feature = [feature for feature in i if feature_dict[feature]['change_range'] == max_change_range][0]\n",
    "                            for feature in i:\n",
    "                                feature_dict_copy[feature]['NOFR'] = 0\n",
    "                                if feature != max_feature:\n",
    "                                    if feature in F_copy:\n",
    "                                        F_copy.remove(feature)\n",
    "                            break\n",
    "                    if flag == 1:\n",
    "                        break\n",
    "                flag = 0\n",
    "    else:\n",
    "        for i in range(len(rela_class)):\n",
    "            for metric in rela_class[i]:\n",
    "                if feature_dict[metric]['change_range']>=0.1:\n",
    "                    Rela_class_copy[i].remove(metric)\n",
    "                    for j in  Rela_class_copy[i]:\n",
    "                        feature_dict_copy[j]['NOFR'] -=1 \n",
    "        for metric in F:\n",
    "            if -0.7<feature_dict[metric]['target']<0.7 and feature_dict_copy[metric]['NOFR']>0:\n",
    "                for i in Rela_class_copy:\n",
    "                    for j in i:\n",
    "                        if metric == j:\n",
    "                            flag == 1\n",
    "                            change_range = [feature_dict[feature]['change_range'] for feature in i]\n",
    "                            max_change_range = max(change_range)\n",
    "                            max_feature = [feature for feature in i if feature_dict[feature]['change_range'] == max_change_range][0]\n",
    "                            for feature in i:\n",
    "                                feature_dict_copy[feature]['NOFR'] = 0\n",
    "                                if feature != max_feature:\n",
    "                                    if feature in F_copy:\n",
    "                                        F_copy.remove(feature)\n",
    "                            break\n",
    "                    if flag == 1:\n",
    "                        break\n",
    "                flag = 0\n",
    "    F_remove = [item for item in F if item not in F_copy]\n",
    "    return F_remove"
   ]
  }
 ],
 "metadata": {
  "kernelspec": {
   "display_name": "Python 3 (ipykernel)",
   "language": "python",
   "name": "python3"
  },
  "language_info": {
   "codemirror_mode": {
    "name": "ipython",
    "version": 3
   },
   "file_extension": ".py",
   "mimetype": "text/x-python",
   "name": "python",
   "nbconvert_exporter": "python",
   "pygments_lexer": "ipython3",
   "version": "3.8.15"
  }
 },
 "nbformat": 4,
 "nbformat_minor": 5
}
