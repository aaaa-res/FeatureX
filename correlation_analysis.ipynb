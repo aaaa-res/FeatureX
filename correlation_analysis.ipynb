{
 "cells": [
  {
   "cell_type": "code",
   "execution_count": 1,
   "id": "9d04cc1d",
   "metadata": {},
   "outputs": [
    {
     "name": "stderr",
     "output_type": "stream",
     "text": [
      "D:\\anaconda3\\envs\\tensorflow\\lib\\site-packages\\numpy\\_distributor_init.py:30: UserWarning: loaded more than 1 DLL from .libs:\n",
      "D:\\anaconda3\\envs\\tensorflow\\lib\\site-packages\\numpy\\.libs\\libopenblas.FB5AE2TYXYH2IJRDKGDGQ3XBKLKTF43H.gfortran-win_amd64.dll\n",
      "D:\\anaconda3\\envs\\tensorflow\\lib\\site-packages\\numpy\\.libs\\libopenblas.NOIJJG62EMASZI6NYURL6JBKM4EVBGM7.gfortran-win_amd64.dll\n",
      "D:\\anaconda3\\envs\\tensorflow\\lib\\site-packages\\numpy\\.libs\\libopenblas.PYQHXLVVQ7VESDPUVUADXEVJOBGHJPAY.gfortran-win_amd64.dll\n",
      "D:\\anaconda3\\envs\\tensorflow\\lib\\site-packages\\numpy\\.libs\\libopenblas.WCDJNK7YVMPZQ2ME2ZZHJJRJ3JIKNDB7.gfortran-win_amd64.dll\n",
      "  warnings.warn(\"loaded more than 1 DLL from .libs:\"\n"
     ]
    }
   ],
   "source": [
    "import pandas as pd\n",
    "import numpy as np\n",
    "import matplotlib.pyplot as plt\n",
    "from scipy.stats import spearmanr\n",
    "import seaborn as sns\n",
    "import copy\n",
    "import scipy.stats as stats"
   ]
  },
  {
   "cell_type": "code",
   "execution_count": 2,
   "id": "9ec1b88d",
   "metadata": {},
   "outputs": [],
   "source": [
    "def set_feature_dict(column_names,feature_dict): # Assigning quantitative information\n",
    "    for feature in column_names:\n",
    "        feature_dict[feature] = {'change_range':0,'correlation': False,'target':0}\n",
    "    return feature_dict"
   ]
  },
  {
   "cell_type": "code",
   "execution_count": 3,
   "id": "a4abe15e",
   "metadata": {},
   "outputs": [],
   "source": [
    "def Feature_correlation_analysis(column_names,feature_dict,spearmanr_data): # Correlation between features\n",
    "    Feature_correlation_list = []\n",
    "    correlation_matrix, _ = spearmanr(spearmanr_data, axis=0)\n",
    "    threshold = 0.7\n",
    "    correlation_matrix[np.abs(correlation_matrix) < threshold] = np.nan\n",
    "    plt.figure(figsize=(10, 8)) \n",
    "    mask = np.tri(*correlation_matrix.shape, k=-1)\n",
    "    correlation_matrix = np.ma.array(correlation_matrix, mask=mask)\n",
    "    sns.heatmap(correlation_matrix, annot=True, cmap=\"coolwarm\", fmt=\".2f\", square=True)\n",
    "    plt.xticks(range(len(column_names)), column_names, rotation=45, horizontalalignment='right')\n",
    "    plt.yticks(range(len(column_names)), column_names)\n",
    "    plt.title(\"Spearman\")\n",
    "    rela_class = []\n",
    "    count = -1\n",
    "    rows, cols = np.where(~np.isnan(correlation_matrix))\n",
    "    for row, col in zip(rows, cols):\n",
    "        if row != col and correlation_matrix[row, col] != 'masked':\n",
    "            Feature_correlation_list.append(str(f\"Feature {column_names[row]} and Feature {column_names[col]} have correlation: {correlation_matrix[row, col]:.2f}\"))\n",
    "            feature1 = column_names[row]\n",
    "            feature2 = column_names[col]\n",
    "            if not rela_class:\n",
    "                rela_class.append([feature1,feature2])\n",
    "                continue\n",
    "            for i in rela_class:\n",
    "                flag = 0\n",
    "                count += 1\n",
    "                if feature1 in i and feature2 not in i :\n",
    "                    rela_class[count].append(feature2)\n",
    "                    flag = 1\n",
    "                    break\n",
    "                elif feature2 in i and feature1 not in i:\n",
    "                    rela_class[count].append(feature1)\n",
    "                    flag = 1\n",
    "                    break\n",
    "                elif feature1 in i and feature2 in i:\n",
    "                    flag = 1\n",
    "                    break\n",
    "            if flag == 0:\n",
    "                rela_class.append([feature1, feature2])\n",
    "            flag = 0\n",
    "            count = -1\n",
    "    result = []\n",
    "    for sublist in rela_class:\n",
    "        merged = False\n",
    "        for existing in result:\n",
    "            if any(item in existing for item in sublist):\n",
    "                existing.extend(item for item in sublist if item not in existing)\n",
    "                merged = True\n",
    "                break\n",
    "        if not merged:\n",
    "            result.append(sublist)\n",
    "    rela_class = result\n",
    "    for i in rela_class:\n",
    "        for j in i:\n",
    "            if j in feature_dict:\n",
    "                feature_dict[j]['correlation'] = True\n",
    "    F = column_names\n",
    "    F_copy = copy.deepcopy(F)\n",
    "    for i in F:\n",
    "        if feature_dict[i]['correlation'] is False:\n",
    "            feature_dict[i]['NOFR'] = 0\n",
    "        else:\n",
    "            for j in rela_class:\n",
    "                for metric in j:\n",
    "                    if metric == i:\n",
    "                         feature_dict[i]['NOFR'] = len(j)-1    \n",
    "    return rela_class,feature_dict,Feature_correlation_list"
   ]
  },
  {
   "cell_type": "code",
   "execution_count": 4,
   "id": "6ee26347",
   "metadata": {},
   "outputs": [],
   "source": [
    "def target_correlation_analysis(feature_dict,target_variable,column_names): # Correlation between features and labels\n",
    "    target_variable_list = []\n",
    "    unique_values, counts = np.unique(target_variable.values, return_counts=True)\n",
    "    if unique_values.shape !=(2,):\n",
    "        for feature in column_names:  \n",
    "            point_biserial_corr, p_value = spearmanr(df[feature], target_variable)\n",
    "            feature_dict[feature]['target'] = point_biserial_corr\n",
    "            target_variable_list.append(str(f\"{feature} - target_variable: {point_biserial_corr:.2f}\"))\n",
    "    else:\n",
    "        for feature in column_names: \n",
    "            point_biserial_corr, p_value = stats.pointbiserialr(df[feature], target_variable)\n",
    "            feature_dict[feature]['target'] = point_biserial_corr\n",
    "            target_variable_list.append(str(f\"{feature} - target_variable: {point_biserial_corr:.2f}\"))\n",
    "    return feature_dict,target_variable_list"
   ]
  }
 ],
 "metadata": {
  "kernelspec": {
   "display_name": "Python 3 (ipykernel)",
   "language": "python",
   "name": "python3"
  },
  "language_info": {
   "codemirror_mode": {
    "name": "ipython",
    "version": 3
   },
   "file_extension": ".py",
   "mimetype": "text/x-python",
   "name": "python",
   "nbconvert_exporter": "python",
   "pygments_lexer": "ipython3",
   "version": "3.8.15"
  }
 },
 "nbformat": 4,
 "nbformat_minor": 5
}
