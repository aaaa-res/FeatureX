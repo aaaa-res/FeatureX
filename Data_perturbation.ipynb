{
 "cells": [
  {
   "cell_type": "code",
   "execution_count": 1,
   "id": "8f646d5e",
   "metadata": {},
   "outputs": [
    {
     "name": "stderr",
     "output_type": "stream",
     "text": [
      "D:\\anaconda3\\envs\\tensorflow\\lib\\site-packages\\numpy\\_distributor_init.py:30: UserWarning: loaded more than 1 DLL from .libs:\n",
      "D:\\anaconda3\\envs\\tensorflow\\lib\\site-packages\\numpy\\.libs\\libopenblas.FB5AE2TYXYH2IJRDKGDGQ3XBKLKTF43H.gfortran-win_amd64.dll\n",
      "D:\\anaconda3\\envs\\tensorflow\\lib\\site-packages\\numpy\\.libs\\libopenblas.NOIJJG62EMASZI6NYURL6JBKM4EVBGM7.gfortran-win_amd64.dll\n",
      "D:\\anaconda3\\envs\\tensorflow\\lib\\site-packages\\numpy\\.libs\\libopenblas.PYQHXLVVQ7VESDPUVUADXEVJOBGHJPAY.gfortran-win_amd64.dll\n",
      "D:\\anaconda3\\envs\\tensorflow\\lib\\site-packages\\numpy\\.libs\\libopenblas.WCDJNK7YVMPZQ2ME2ZZHJJRJ3JIKNDB7.gfortran-win_amd64.dll\n",
      "  warnings.warn(\"loaded more than 1 DLL from .libs:\"\n"
     ]
    }
   ],
   "source": [
    "import pandas as pd \n",
    "import numpy as np\n",
    "import matplotlib.pyplot as plt\n",
    "import random\n",
    "import time\n",
    "import matplotlib.pyplot as plt"
   ]
  },
  {
   "cell_type": "code",
   "execution_count": 2,
   "id": "c931a9f7",
   "metadata": {},
   "outputs": [],
   "source": [
    "def get_col_ranges(data,col_name):\n",
    "    col_data = data[col_name]\n",
    "    min_value = col_data.min()\n",
    "    max_value = col_data.max()\n",
    "    values_count = col_data.nunique()\n",
    "    values_range = col_data.unique()\n",
    "    values_range.sort()\n",
    "    values_range = values_range.tolist()\n",
    "    return min_value,max_value,values_count,values_range"
   ]
  },
  {
   "cell_type": "code",
   "execution_count": 3,
   "id": "69e25619",
   "metadata": {},
   "outputs": [],
   "source": [
    "def value_range(column_names,df): # Getting the feature statistics\n",
    "    min_value_list,max_value_list,values_count_list,values_range_list = [],[],[],[]\n",
    "    for i in column_names:\n",
    "        min_value,max_value,values_count,values_range = get_col_ranges(df,i)\n",
    "        min_value_list.append(min_value)\n",
    "        max_value_list.append(max_value)\n",
    "        values_count_list.append(values_count)\n",
    "        values_range_list.append(values_range)\n",
    "    return min_value_list,max_value_list,values_count_list,values_range_list"
   ]
  },
  {
   "cell_type": "code",
   "execution_count": 4,
   "id": "1399acb9",
   "metadata": {},
   "outputs": [],
   "source": [
    "def Disturbance_range(column_names,min_value_list,max_value_list,values_count_list):\n",
    "    x_list = []\n",
    "    for j in range(0,len(column_names)):\n",
    "        if min_value_list[j]==0 and max_value_list[j]==1 and values_count_list[j]!=2:\n",
    "            x_list.append ([i / 10 for i in range(11)])\n",
    "        elif (max_value_list[j]-min_value_list[j])/values_count_list[j] > 100:\n",
    "            num_of_random_values = 30 \n",
    "            for _ in range(num_of_random_values):\n",
    "                random_data = random.randint(min(values_range_list[j]), max(values_range_list[j]))\n",
    "                values_range_list[j].append(random_data)\n",
    "                values_range_list[j].sort()\n",
    "            x_list.append(values_range_list[j])\n",
    "        else:\n",
    "            x_list.append ([i for i in range(int(min_value_list[j]),int(max_value_list[j])+1)])\n",
    "    return x_list"
   ]
  },
  {
   "cell_type": "code",
   "execution_count": 5,
   "id": "f9461d0b",
   "metadata": {},
   "outputs": [],
   "source": [
    "def Fresh_breeze(x,column_names,min_value_list,max_value_list,values_count_list,init_val):\n",
    "    y_list = [[] for _ in range(len(column_names))]\n",
    "    interval = [i / 10 for i in range(11)]\n",
    "    rel_out = np.argmax(init_val,axis=1) \n",
    "    start = time.perf_counter()\n",
    "    for j in range(len(column_names)):\n",
    "        if min_value_list[j] == 0 and max_value_list[j] == 1 and values_count_list[j]!=2:\n",
    "            values = [interval[i] for i in range(11)]\n",
    "        elif (max_value_list[j]-min_value_list[j])/values_count_list[j] > 100:\n",
    "            values = [x_list[j][i] for i in range(len(x_list[j]))]\n",
    "        elif len(x_list[j]) > 10000:\n",
    "            num_partitions = 1000\n",
    "            step = (max_value_list[j]-min_value_list[j])/num_partitions\n",
    "            values = [start + k * step for k in range(num_partitions)]\n",
    "            x_list[j] = values\n",
    "        else:\n",
    "            values = [i for i in range(int(min_value_list[j]), int(max_value_list[j]) + 1)]\n",
    "        for i in values:\n",
    "            modified_x = list(x.numpy())\n",
    "            modified_x[0][j] = i\n",
    "            modified_x = tf.convert_to_tensor(modified_x, dtype=tf.float32)\n",
    "            rel = model.predict(modified_x)\n",
    "            variety = rel - init_val      \n",
    "            first_value = variety[0][rel_out]    \n",
    "            y_list[j].append(first_value)\n",
    "    end = time.perf_counter()\n",
    "    print('Running time: %s Seconds'%(end-start))\n",
    "    return y_list"
   ]
  },
  {
   "cell_type": "code",
   "execution_count": 6,
   "id": "9391f4dc",
   "metadata": {},
   "outputs": [],
   "source": [
    "def visualization(column_names,y_list):\n",
    "    y_list_max = [max(sub_list) for sub_list in y_list]\n",
    "    y_list_min = [min(sub_list) for sub_list in y_list]\n",
    "    y_list_abs = [[abs(x) for x in inner_list] for inner_list in y_list]\n",
    "    max_values = [max(sublist) for sublist in y_list_abs]\n",
    "    for i in range(len(column_names)):\n",
    "        plt.figure(figsize=(10,80))\n",
    "        plt.subplot(len(column_names), 1, i+1)\n",
    "        plt.plot(x_list[i], y_list[i],linestyle='-', color='r')\n",
    "        max_index = y_list[i].index(max(y_list[i]))\n",
    "        min_index = y_list[i].index(min(y_list[i]))\n",
    "        x_max, y_max = x_list[i][max_index], y_list[i][max_index]\n",
    "        x_min, y_min = x_list[i][min_index], y_list[i][min_index]\n",
    "        plt.annotate(f'Max: ({x_max}, {y_max})', (x_max, y_max), textcoords=\"offset points\", xytext=(0,10), ha='center', color='red')\n",
    "        plt.annotate(f'Min: ({x_min}, {y_min})', (x_min, y_min), textcoords=\"offset points\", xytext=(0,10), ha='center', color='green')\n",
    "        plt.xlabel(column_names[i])\n",
    "        plt.ylabel('Forecast change')\n",
    "        plt.ylim(y_list_min[i]*1.1,y_list_max[i]*1.5)\n",
    "        plt.grid(True)\n",
    "    return max_values"
   ]
  },
  {
   "cell_type": "code",
   "execution_count": 7,
   "id": "aeb254d2",
   "metadata": {},
   "outputs": [],
   "source": [
    "def feature_important(column_names,threshold,max_values):\n",
    "    total_sum = sum(max_values)\n",
    "    percentages = [(value / total_sum) * 100 for value in max_values]\n",
    "    merged_values = []\n",
    "    merged_categories = []\n",
    "    other_total = 0\n",
    "    for category, value in zip(column_names, max_values):\n",
    "        if value / total_sum * 100 < threshold:\n",
    "            other_total += value\n",
    "        else:\n",
    "            merged_values.append(value)\n",
    "            merged_categories.append(category)\n",
    "    merged_values.append(other_total)\n",
    "    merged_categories.append(\"others\")\n",
    "    merged_values = np.concatenate(merged_values)\n",
    "    fig, axs = plt.subplots(1, 2, figsize=(10, 4))\n",
    "    axs[0].plot(merged_categories, merged_values, marker='o', color='#813C85', label='line')\n",
    "    axs[0].bar(merged_categories, merged_values, alpha=0.4, color='#DE3F7C', label='bar')\n",
    "    axs[0].tick_params(axis='x', rotation=70)\n",
    "    axs[1].pie(merged_values, labels=merged_categories, autopct='%1.1f%%') \n",
    "    plt.show()"
   ]
  }
 ],
 "metadata": {
  "kernelspec": {
   "display_name": "Python 3 (ipykernel)",
   "language": "python",
   "name": "python3"
  },
  "language_info": {
   "codemirror_mode": {
    "name": "ipython",
    "version": 3
   },
   "file_extension": ".py",
   "mimetype": "text/x-python",
   "name": "python",
   "nbconvert_exporter": "python",
   "pygments_lexer": "ipython3",
   "version": "3.8.15"
  }
 },
 "nbformat": 4,
 "nbformat_minor": 5
}
